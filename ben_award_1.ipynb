{
  "nbformat": 4,
  "nbformat_minor": 0,
  "metadata": {
    "colab": {
      "name": "ben_award_1.ipynb",
      "provenance": [],
      "collapsed_sections": [],
      "authorship_tag": "ABX9TyOZuaTpwxMISfzV8I+rtasj",
      "include_colab_link": true
    },
    "kernelspec": {
      "name": "python3",
      "display_name": "Python 3"
    }
  },
  "cells": [
    {
      "cell_type": "markdown",
      "metadata": {
        "id": "view-in-github",
        "colab_type": "text"
      },
      "source": [
        "<a href=\"https://colab.research.google.com/github/pesfahanian/FAANG/blob/master/ben_award_1.ipynb\" target=\"_parent\"><img src=\"https://colab.research.google.com/assets/colab-badge.svg\" alt=\"Open In Colab\"/></a>"
      ]
    },
    {
      "cell_type": "code",
      "metadata": {
        "id": "m8sOeODPLx9T",
        "colab_type": "code",
        "colab": {}
      },
      "source": [
        "import random"
      ],
      "execution_count": 1,
      "outputs": []
    },
    {
      "cell_type": "code",
      "metadata": {
        "id": "QFMzJNcRMFLN",
        "colab_type": "code",
        "colab": {}
      },
      "source": [
        "def sum_list(L):\n",
        "    sum = 0\n",
        "    for l in L:\n",
        "        sum += l\n",
        "    return sum"
      ],
      "execution_count": 2,
      "outputs": []
    },
    {
      "cell_type": "code",
      "metadata": {
        "id": "R1JVby-zMHtb",
        "colab_type": "code",
        "colab": {
          "base_uri": "https://localhost:8080/",
          "height": 34
        },
        "outputId": "b736dfa1-93dd-4722-eb0c-23c1a9cc5e2b"
      },
      "source": [
        "sum_list([4, 5, 6])"
      ],
      "execution_count": 3,
      "outputs": [
        {
          "output_type": "execute_result",
          "data": {
            "text/plain": [
              "15"
            ]
          },
          "metadata": {
            "tags": []
          },
          "execution_count": 3
        }
      ]
    },
    {
      "cell_type": "code",
      "metadata": {
        "id": "elMjvpZqMIOq",
        "colab_type": "code",
        "colab": {}
      },
      "source": [
        "def guess_random():\n",
        "    pick = random.randint(1, 10)\n",
        "    print(pick)\n",
        "    while(True):\n",
        "        val = input('Take a guess: ')\n",
        "        # print(val)\n",
        "        if (val == 'quit'):\n",
        "            break\n",
        "        if (int(val) == pick):\n",
        "            print('You guessed', val, 'right.')\n",
        "            break\n",
        "        if (int(val) != pick):\n",
        "            if (int(val) < pick):\n",
        "                print('Wrong! Too low!')\n",
        "            else:\n",
        "                print('Wrong! Too high!')"
      ],
      "execution_count": 4,
      "outputs": []
    },
    {
      "cell_type": "code",
      "metadata": {
        "id": "Ei1piCsQMJzL",
        "colab_type": "code",
        "colab": {
          "base_uri": "https://localhost:8080/",
          "height": 134
        },
        "outputId": "31d1e0dc-8f3e-4456-932b-48d0eff8dc61"
      },
      "source": [
        "guess_random()"
      ],
      "execution_count": 5,
      "outputs": [
        {
          "output_type": "stream",
          "text": [
            "6\n",
            "Take a guess: 3\n",
            "Wrong! Too low!\n",
            "Take a guess: 8\n",
            "Wrong! Too high!\n",
            "Take a guess: 6\n",
            "You guessed 6 right.\n"
          ],
          "name": "stdout"
        }
      ]
    },
    {
      "cell_type": "code",
      "metadata": {
        "id": "C2KJ8pJ8MMVD",
        "colab_type": "code",
        "colab": {}
      },
      "source": [
        "def find_indices(target, arr):\n",
        "    for i in range(len(arr)):\n",
        "        for j in range(i+1, len(arr)):\n",
        "            if (arr[i]+arr[j] == target):\n",
        "                print('indeces are:', i, ',', j)\n",
        "                print('elements are:', arr[i], ',', arr[j])\n",
        "                break"
      ],
      "execution_count": 6,
      "outputs": []
    },
    {
      "cell_type": "code",
      "metadata": {
        "id": "umsl_OBJMPNL",
        "colab_type": "code",
        "colab": {
          "base_uri": "https://localhost:8080/",
          "height": 84
        },
        "outputId": "b3c27895-f7e6-4631-de69-4dad83391346"
      },
      "source": [
        "find_indices(6, [1, 2, 3, 4, 5])"
      ],
      "execution_count": 7,
      "outputs": [
        {
          "output_type": "stream",
          "text": [
            "indeces are: 0 , 4\n",
            "elements are: 1 , 5\n",
            "indeces are: 1 , 3\n",
            "elements are: 2 , 4\n"
          ],
          "name": "stdout"
        }
      ]
    }
  ]
}