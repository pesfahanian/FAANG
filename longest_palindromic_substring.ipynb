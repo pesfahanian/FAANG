{
  "nbformat": 4,
  "nbformat_minor": 0,
  "metadata": {
    "colab": {
      "name": "longest_palindromic_substring.ipynb",
      "provenance": [],
      "authorship_tag": "ABX9TyPxQCJoGm2yi0G8Hd6iF/td",
      "include_colab_link": true
    },
    "kernelspec": {
      "name": "python3",
      "display_name": "Python 3"
    }
  },
  "cells": [
    {
      "cell_type": "markdown",
      "metadata": {
        "id": "view-in-github",
        "colab_type": "text"
      },
      "source": [
        "<a href=\"https://colab.research.google.com/github/pesfahanian/FAANG/blob/master/longest_palindromic_substring.ipynb\" target=\"_parent\"><img src=\"https://colab.research.google.com/assets/colab-badge.svg\" alt=\"Open In Colab\"/></a>"
      ]
    },
    {
      "cell_type": "code",
      "metadata": {
        "id": "LeKam7xJZ9lQ",
        "colab_type": "code",
        "colab": {}
      },
      "source": [
        "def check_palindromic(s):\n",
        "    if (len(s)%2 == 0):\n",
        "        first_half = s[0:int(len(s)/2)]\n",
        "        second_half = s[int(len(s)/2):len(s)]\n",
        "    if (len(s)%2 != 0):\n",
        "        first_half = s[0:int(len(s)/2)+1]\n",
        "        second_half = s[int(len(s)/2):len(s)]\n",
        "    second_half = second_half[::-1]\n",
        "    if (first_half == second_half):\n",
        "        return True\n",
        "    else:\n",
        "        return False"
      ],
      "execution_count": 1,
      "outputs": []
    },
    {
      "cell_type": "code",
      "metadata": {
        "id": "abEulHutaxYm",
        "colab_type": "code",
        "colab": {}
      },
      "source": [
        "def longest_palindromic_substring(s):\n",
        "    sliding_window = len(s)\n",
        "    while(True):\n",
        "        if (sliding_window == 1):\n",
        "            return 'No palindromic substring found!'\n",
        "        else:\n",
        "            for i in range(len(s)-sliding_window+1):\n",
        "                if (check_palindromic(s[i:sliding_window+i]) == True):\n",
        "                    print('Palindromic substring found:')\n",
        "                    return s[i:sliding_window+i]\n",
        "        sliding_window -= 1"
      ],
      "execution_count": 2,
      "outputs": []
    },
    {
      "cell_type": "code",
      "metadata": {
        "id": "2ykccBBFdr37",
        "colab_type": "code",
        "colab": {
          "base_uri": "https://localhost:8080/",
          "height": 35
        },
        "outputId": "633e80a9-dffc-4ffc-f06a-88a667f98c8c"
      },
      "source": [
        "longest_palindromic_substring('asdfghjklzxcvbnm1')"
      ],
      "execution_count": 3,
      "outputs": [
        {
          "output_type": "execute_result",
          "data": {
            "application/vnd.google.colaboratory.intrinsic+json": {
              "type": "string"
            },
            "text/plain": [
              "'No palindromic substring found!'"
            ]
          },
          "metadata": {
            "tags": []
          },
          "execution_count": 3
        }
      ]
    },
    {
      "cell_type": "code",
      "metadata": {
        "id": "owzyFKyhdtS8",
        "colab_type": "code",
        "colab": {
          "base_uri": "https://localhost:8080/",
          "height": 52
        },
        "outputId": "e66dc8ad-9883-42ea-ef98-ecc0e0eca271"
      },
      "source": [
        "longest_palindromic_substring('banana')"
      ],
      "execution_count": 4,
      "outputs": [
        {
          "output_type": "stream",
          "text": [
            "Palindromic substring found:\n"
          ],
          "name": "stdout"
        },
        {
          "output_type": "execute_result",
          "data": {
            "application/vnd.google.colaboratory.intrinsic+json": {
              "type": "string"
            },
            "text/plain": [
              "'anana'"
            ]
          },
          "metadata": {
            "tags": []
          },
          "execution_count": 4
        }
      ]
    }
  ]
}