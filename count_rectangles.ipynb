{
  "nbformat": 4,
  "nbformat_minor": 0,
  "metadata": {
    "colab": {
      "name": "count_rectangles.ipynb",
      "provenance": [],
      "authorship_tag": "ABX9TyNQTidtxKsx8NU0cpa3dWh8",
      "include_colab_link": true
    },
    "kernelspec": {
      "name": "python3",
      "display_name": "Python 3"
    }
  },
  "cells": [
    {
      "cell_type": "markdown",
      "metadata": {
        "id": "view-in-github",
        "colab_type": "text"
      },
      "source": [
        "<a href=\"https://colab.research.google.com/github/pesfahanian/FAANG/blob/master/count_rectangles.ipynb\" target=\"_parent\"><img src=\"https://colab.research.google.com/assets/colab-badge.svg\" alt=\"Open In Colab\"/></a>"
      ]
    },
    {
      "cell_type": "code",
      "metadata": {
        "id": "JYwveCKVtUEY",
        "colab_type": "code",
        "colab": {}
      },
      "source": [
        "import numpy as np\n",
        "import matplotlib.pyplot as plt\n",
        "%matplotlib inline"
      ],
      "execution_count": 155,
      "outputs": []
    },
    {
      "cell_type": "code",
      "metadata": {
        "id": "-e4RvW2yCh9-",
        "colab_type": "code",
        "colab": {}
      },
      "source": [
        "def check_if_rectangle(p1, p2, p3, p4):\n",
        "    L = [p1, p2, p3, p4]\n",
        "    L.sort()\n",
        "    if (L[0][0] == L[1][0]) and (L[2][0] == L[3][0]) and (L[0][1] == L[2][1]) and (L[1][1] == L[3][1]):\n",
        "        return True\n",
        "    else:\n",
        "        return False\n",
        "\n",
        "def calculate_triangles(points):\n",
        "    points.sort()\n",
        "    sum = 0\n",
        "    for i in range(0, len(points)):\n",
        "        for j in range(i+1, len(points)):\n",
        "            for k in range(j+1, len(points)):\n",
        "                for l in range(k+1, len(points)):\n",
        "                    status = check_if_rectangle(points[i], points[j], points[k], points[l])\n",
        "                    if (status == True):\n",
        "                        sum += 1\n",
        "    return sum"
      ],
      "execution_count": 156,
      "outputs": []
    },
    {
      "cell_type": "code",
      "metadata": {
        "id": "GoKhQh62A3le",
        "colab_type": "code",
        "colab": {
          "base_uri": "https://localhost:8080/",
          "height": 282
        },
        "outputId": "2e2a4d3d-f38b-4e1c-ba69-ea79e5892c91"
      },
      "source": [
        "points = [(0, 0), (1, 0), (2, 0), (0, 1), (2, 1), (0, 2), (1,1), (2, 2)]\n",
        "# points = [(0, 0), (1, 0), (2, 0), (0, 1), (2, 1)]\n",
        "a, b = np.array(points).T\n",
        "plt.scatter(a, b)\n",
        "plt.show()\n",
        "calculate_triangles(points)"
      ],
      "execution_count": 158,
      "outputs": [
        {
          "output_type": "display_data",
          "data": {
            "image/png": "[encoded data removed]",
            "text/plain": [
              "<Figure size 432x288 with 1 Axes>"
            ]
          },
          "metadata": {
            "tags": [],
            "needs_background": "light"
          }
        },
        {
          "output_type": "execute_result",
          "data": {
            "text/plain": [
              "5"
            ]
          },
          "metadata": {
            "tags": []
          },
          "execution_count": 158
        }
      ]
    },
    {
      "cell_type": "code",
      "metadata": {
        "id": "Y68SJtOVD7wT",
        "colab_type": "code",
        "colab": {}
      },
      "source": [
        ""
      ],
      "execution_count": null,
      "outputs": []
    }
  ]
}