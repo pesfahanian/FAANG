{
  "nbformat": 4,
  "nbformat_minor": 0,
  "metadata": {
    "colab": {
      "name": "recursive_staircase.ipynb",
      "provenance": [],
      "collapsed_sections": [],
      "authorship_tag": "ABX9TyN8YGoyO6s+gsA7xOl6omXI",
      "include_colab_link": true
    },
    "kernelspec": {
      "name": "python3",
      "display_name": "Python 3"
    }
  },
  "cells": [
    {
      "cell_type": "markdown",
      "metadata": {
        "id": "view-in-github",
        "colab_type": "text"
      },
      "source": [
        "<a href=\"https://colab.research.google.com/github/pesfahanian/FAANG/blob/master/recursive_staircase.ipynb\" target=\"_parent\"><img src=\"https://colab.research.google.com/assets/colab-badge.svg\" alt=\"Open In Colab\"/></a>"
      ]
    },
    {
      "cell_type": "code",
      "metadata": {
        "id": "agLQ2leUhnZw",
        "colab_type": "code",
        "colab": {}
      },
      "source": [
        "# Function to return the number of ways to get to the top of n stairs. Acceptable step sizes are 1 and 2.\n",
        "def num_ways(n):\n",
        "    if (n == 0) or (n == 1):\n",
        "        return 1\n",
        "    else:\n",
        "        return num_ways(n-1) + num_ways(n-2)"
      ],
      "execution_count": null,
      "outputs": []
    },
    {
      "cell_type": "code",
      "metadata": {
        "id": "n6OP0DORie_b",
        "colab_type": "code",
        "colab": {
          "base_uri": "https://localhost:8080/",
          "height": 34
        },
        "outputId": "5e7f7d6e-d466-40a3-9794-090e1dc03763"
      },
      "source": [
        "num_ways(5)"
      ],
      "execution_count": null,
      "outputs": [
        {
          "output_type": "execute_result",
          "data": {
            "text/plain": [
              "8"
            ]
          },
          "metadata": {
            "tags": []
          },
          "execution_count": 10
        }
      ]
    },
    {
      "cell_type": "code",
      "metadata": {
        "id": "FRfbXzh6wX6_",
        "colab_type": "code",
        "colab": {}
      },
      "source": [
        "# Function to return the number of ways to get to the top of n stairs. Acceptable step sizes are elements of the 'step_sizes' list.\n",
        "step_sizes = [1, 2, 3]\n",
        "def num_ways_variant(n):\n",
        "    if (n == 0):\n",
        "        return 1\n",
        "    else:\n",
        "        ways = 0\n",
        "        for s in step_sizes:\n",
        "            if (n-s >= 0):\n",
        "                ways += num_ways_variant(n-s)\n",
        "        return ways"
      ],
      "execution_count": null,
      "outputs": []
    },
    {
      "cell_type": "code",
      "metadata": {
        "id": "UvOQphzWzY_N",
        "colab_type": "code",
        "colab": {
          "base_uri": "https://localhost:8080/",
          "height": 34
        },
        "outputId": "bce2b815-a4da-4686-aefd-fdec449dfe38"
      },
      "source": [
        "num_ways_variant(5)"
      ],
      "execution_count": null,
      "outputs": [
        {
          "output_type": "execute_result",
          "data": {
            "text/plain": [
              "13"
            ]
          },
          "metadata": {
            "tags": []
          },
          "execution_count": 14
        }
      ]
    }
  ]
}