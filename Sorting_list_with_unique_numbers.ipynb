{
  "nbformat": 4,
  "nbformat_minor": 0,
  "metadata": {
    "colab": {
      "name": "Sorting_list_with_unique_numbers.ipynb",
      "provenance": [],
      "collapsed_sections": [],
      "authorship_tag": "ABX9TyOCZUxdfzjvsToPMxzVIB/D",
      "include_colab_link": true
    },
    "kernelspec": {
      "name": "python3",
      "display_name": "Python 3"
    }
  },
  "cells": [
    {
      "cell_type": "markdown",
      "metadata": {
        "id": "view-in-github",
        "colab_type": "text"
      },
      "source": [
        "<a href=\"https://colab.research.google.com/github/pesfahanian/FAANG/blob/master/Sorting_list_with_unique_numbers.ipynb\" target=\"_parent\"><img src=\"https://colab.research.google.com/assets/colab-badge.svg\" alt=\"Open In Colab\"/></a>"
      ]
    },
    {
      "cell_type": "code",
      "metadata": {
        "id": "bRvMPiLNpks_",
        "colab_type": "code",
        "colab": {}
      },
      "source": [
        "def unique_sort_3numbers(input):\n",
        "    keep_track = [0, 0, 0]\n",
        "    for i in input:\n",
        "        if (i == 1):\n",
        "            keep_track[0] += 1\n",
        "        if (i == 2):\n",
        "            keep_track[1] += 1\n",
        "        if (i == 3):\n",
        "            keep_track[2] += 1\n",
        "    output = []\n",
        "    for k_1 in range(keep_track[0]):\n",
        "        output.append(1)\n",
        "    for k_2 in range(keep_track[1]):\n",
        "        output.append(2)\n",
        "    for k_3 in range(keep_track[2]):\n",
        "        output.append(3)\n",
        "    return output"
      ],
      "execution_count": 1,
      "outputs": []
    },
    {
      "cell_type": "code",
      "metadata": {
        "id": "kJl5_ksTqmT2",
        "colab_type": "code",
        "colab": {
          "base_uri": "https://localhost:8080/",
          "height": 34
        },
        "outputId": "639ed16d-d1d7-4a89-efcf-1c6692665d61"
      },
      "source": [
        "unique_sort_3numbers([3, 3, 2, 1, 3, 2, 1])"
      ],
      "execution_count": 2,
      "outputs": [
        {
          "output_type": "execute_result",
          "data": {
            "text/plain": [
              "[1, 1, 2, 2, 3, 3, 3]"
            ]
          },
          "metadata": {
            "tags": []
          },
          "execution_count": 2
        }
      ]
    },
    {
      "cell_type": "code",
      "metadata": {
        "id": "2Oo5M5Roqu5E",
        "colab_type": "code",
        "colab": {}
      },
      "source": [
        "# As long as len(numbers)<len(input), this will run in O(n).\n",
        "def unique_sort(input, numbers):\n",
        "    keep_track = []\n",
        "    for n in numbers:\n",
        "        count = 0\n",
        "        for i in input:\n",
        "            if (i == n):\n",
        "                count += 1\n",
        "        keep_track.append(count)\n",
        "    output = []\n",
        "    for k in range(len(keep_track)):\n",
        "        for t in range(keep_track[k]):\n",
        "            output.append(numbers[k])\n",
        "    return output"
      ],
      "execution_count": 3,
      "outputs": []
    },
    {
      "cell_type": "code",
      "metadata": {
        "id": "5H6GvV7TtWiO",
        "colab_type": "code",
        "colab": {
          "base_uri": "https://localhost:8080/",
          "height": 34
        },
        "outputId": "b5b5272f-a69a-48cb-8dad-0c2ea79c3013"
      },
      "source": [
        "unique_sort([3, 3, 2, 1, 3, 2, 1], [1, 2, 3])"
      ],
      "execution_count": 4,
      "outputs": [
        {
          "output_type": "execute_result",
          "data": {
            "text/plain": [
              "[1, 1, 2, 2, 3, 3, 3]"
            ]
          },
          "metadata": {
            "tags": []
          },
          "execution_count": 4
        }
      ]
    },
    {
      "cell_type": "code",
      "metadata": {
        "id": "Ehj7dC6IsGZh",
        "colab_type": "code",
        "colab": {
          "base_uri": "https://localhost:8080/",
          "height": 34
        },
        "outputId": "3a3d902e-dc0a-41cb-a989-4ace1f4aaa6e"
      },
      "source": [
        "unique_sort([3, 3, 2, 4, 1, 3, 2, 1, 4, 4], [1, 2, 3, 4])"
      ],
      "execution_count": 5,
      "outputs": [
        {
          "output_type": "execute_result",
          "data": {
            "text/plain": [
              "[1, 1, 2, 2, 3, 3, 3, 4, 4, 4]"
            ]
          },
          "metadata": {
            "tags": []
          },
          "execution_count": 5
        }
      ]
    }
  ]
}