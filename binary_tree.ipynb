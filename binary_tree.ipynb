{
  "nbformat": 4,
  "nbformat_minor": 0,
  "metadata": {
    "colab": {
      "name": "binary_tree.ipynb",
      "provenance": [],
      "collapsed_sections": [],
      "authorship_tag": "ABX9TyOhNnt+LUTe1XSJEyIAxlbw",
      "include_colab_link": true
    },
    "kernelspec": {
      "name": "python3",
      "display_name": "Python 3"
    }
  },
  "cells": [
    {
      "cell_type": "markdown",
      "metadata": {
        "id": "view-in-github",
        "colab_type": "text"
      },
      "source": [
        "<a href=\"https://colab.research.google.com/github/pesfahanian/FAANG/blob/master/binary_tree.ipynb\" target=\"_parent\"><img src=\"https://colab.research.google.com/assets/colab-badge.svg\" alt=\"Open In Colab\"/></a>"
      ]
    },
    {
      "cell_type": "code",
      "metadata": {
        "id": "p6i3faAoaWzS",
        "colab_type": "code",
        "colab": {}
      },
      "source": [
        "class tree_node(object):\n",
        "    def __init__(self, value):\n",
        "        self.left = None\n",
        "        self.right = None\n",
        "        self.value = value"
      ],
      "execution_count": 1,
      "outputs": []
    },
    {
      "cell_type": "code",
      "metadata": {
        "id": "0HVxRIcaamQn",
        "colab_type": "code",
        "colab": {}
      },
      "source": [
        "class binary_tree(object):\n",
        "    def __init__(self):\n",
        "        self.root = None\n",
        "\n",
        "    def get_root(self):\n",
        "        return self.root.value\n",
        "\n",
        "    def add(self, value):\n",
        "        if (self.root is None):\n",
        "            self.root = tree_node(value)\n",
        "        else:\n",
        "            self.add_node(value, self.root)\n",
        "\n",
        "    def add_node(self, value, node):\n",
        "        if (value < node.value):\n",
        "            if (node.left is None):\n",
        "                node.left = tree_node(value)\n",
        "            else:\n",
        "                self.add_node(value, node.left)\n",
        "        else:\n",
        "            if (node.right is None):\n",
        "                node.right = tree_node(value)\n",
        "            else:\n",
        "                self.add_node(value, node.right)\n",
        "\n",
        "    # doesn't work for now. fix it later\n",
        "    # def find(self, value):\n",
        "    #     if (self.root is not None):\n",
        "    #         print('got here')\n",
        "    #         return self.find_node(value, self.root)\n",
        "    #     else:\n",
        "    #         print('got here 0')\n",
        "    #         return None\n",
        "\n",
        "    # def find_node(self, value, node):\n",
        "    #     if (value == node.value):\n",
        "    #         print('got here 1')\n",
        "    #         return node\n",
        "    #     else:\n",
        "    #         if (value < node.value) and (node.left is not None):\n",
        "    #             print('got here 2')\n",
        "    #             self.find_node(value, node.left)\n",
        "    #         if (value > node.value) and (node.right is not None):\n",
        "    #             print('got here 3')\n",
        "    #             self.find_node(value, node.right)\n",
        "    \n",
        "    def invert(self):\n",
        "        if (self.root is None):\n",
        "            return 'Tree is empty.'\n",
        "        else:\n",
        "            self.invert_tree(self.root)\n",
        "\n",
        "    def invert_tree(self, node):\n",
        "        node.left, node.right = node.right, node.left\n",
        "        if (node.left is not None):\n",
        "            self.invert_tree(node.left)\n",
        "        if (node.right is not None):\n",
        "            self.invert_tree(node.right)\n",
        "    \n",
        "    def print_tree(self):\n",
        "        if (self.root is None):\n",
        "            return 'Tree is empty.'\n",
        "        else:\n",
        "            self.print(self.root)\n",
        "\n",
        "    def print(self, node):\n",
        "        if (node is not None):\n",
        "            self.print(node.left)\n",
        "            print(str(node.value) + ' ')\n",
        "            self.print(node.right)"
      ],
      "execution_count": 2,
      "outputs": []
    },
    {
      "cell_type": "code",
      "metadata": {
        "id": "GcLdwE6daylz",
        "colab_type": "code",
        "colab": {
          "base_uri": "https://localhost:8080/",
          "height": 134
        },
        "outputId": "c424b4f3-bf13-4496-bb22-c2779a5427a3"
      },
      "source": [
        "tree = binary_tree()\n",
        "values = [2, 4, 0, 8, 1, 3, 5]\n",
        "for v in values:\n",
        "    tree.add(v)\n",
        "tree.print_tree()"
      ],
      "execution_count": 3,
      "outputs": [
        {
          "output_type": "stream",
          "text": [
            "0 \n",
            "1 \n",
            "2 \n",
            "3 \n",
            "4 \n",
            "5 \n",
            "8 \n"
          ],
          "name": "stdout"
        }
      ]
    },
    {
      "cell_type": "code",
      "metadata": {
        "id": "m59CVuefkIfw",
        "colab_type": "code",
        "colab": {
          "base_uri": "https://localhost:8080/",
          "height": 134
        },
        "outputId": "c7690fb3-72f4-4144-e1dd-b5197ec74573"
      },
      "source": [
        "tree.invert()\n",
        "tree.print_tree()"
      ],
      "execution_count": 4,
      "outputs": [
        {
          "output_type": "stream",
          "text": [
            "8 \n",
            "5 \n",
            "4 \n",
            "3 \n",
            "2 \n",
            "1 \n",
            "0 \n"
          ],
          "name": "stdout"
        }
      ]
    }
  ]
}