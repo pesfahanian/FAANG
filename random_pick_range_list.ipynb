{
  "nbformat": 4,
  "nbformat_minor": 0,
  "metadata": {
    "colab": {
      "name": "random_pick_range_list.ipynb",
      "provenance": [],
      "collapsed_sections": [],
      "authorship_tag": "ABX9TyPzRUkRoOkJXidSTZKC8OnI",
      "include_colab_link": true
    },
    "kernelspec": {
      "name": "python3",
      "display_name": "Python 3"
    }
  },
  "cells": [
    {
      "cell_type": "markdown",
      "metadata": {
        "id": "view-in-github",
        "colab_type": "text"
      },
      "source": [
        "<a href=\"https://colab.research.google.com/github/pesfahanian/FAANG/blob/master/random_pick_range_list.ipynb\" target=\"_parent\"><img src=\"https://colab.research.google.com/assets/colab-badge.svg\" alt=\"Open In Colab\"/></a>"
      ]
    },
    {
      "cell_type": "code",
      "metadata": {
        "id": "allHrgzRJ5ye",
        "colab_type": "code",
        "colab": {}
      },
      "source": [
        "import random"
      ],
      "execution_count": 1,
      "outputs": []
    },
    {
      "cell_type": "code",
      "metadata": {
        "id": "FLWpvjuWI9Si",
        "colab_type": "code",
        "colab": {}
      },
      "source": [
        "def count_numbers(input):\n",
        "    sum = 0\n",
        "    for i in input:\n",
        "        sum += i[1] - i[0] + 1\n",
        "    return sum"
      ],
      "execution_count": 2,
      "outputs": []
    },
    {
      "cell_type": "code",
      "metadata": {
        "id": "tMPYSNO-Jxg1",
        "colab_type": "code",
        "colab": {}
      },
      "source": [
        "def main(input):\n",
        "    count = count_numbers(input)\n",
        "    print('count =', count)\n",
        "    r = random.randint(1, count)\n",
        "    print('r =', r)\n",
        "    for i in input:\n",
        "        rng = i[1] - i[0] + 1\n",
        "        if (r <= rng):\n",
        "            return i[0] + r - 1\n",
        "        else:\n",
        "            r -= rng"
      ],
      "execution_count": 3,
      "outputs": []
    },
    {
      "cell_type": "code",
      "metadata": {
        "id": "rwuTJxCcJfxG",
        "colab_type": "code",
        "colab": {}
      },
      "source": [
        "range = [[12, 15], [1, 5], [32, 34]]"
      ],
      "execution_count": 4,
      "outputs": []
    },
    {
      "cell_type": "code",
      "metadata": {
        "id": "FN2Xfc7_JoEV",
        "colab_type": "code",
        "colab": {
          "base_uri": "https://localhost:8080/",
          "height": 67
        },
        "outputId": "4db5a24e-988c-47f9-af1a-e2ac63defcda"
      },
      "source": [
        "main(range)"
      ],
      "execution_count": 5,
      "outputs": [
        {
          "output_type": "stream",
          "text": [
            "count = 12\n",
            "r = 6\n"
          ],
          "name": "stdout"
        },
        {
          "output_type": "execute_result",
          "data": {
            "text/plain": [
              "2"
            ]
          },
          "metadata": {
            "tags": []
          },
          "execution_count": 5
        }
      ]
    }
  ]
}