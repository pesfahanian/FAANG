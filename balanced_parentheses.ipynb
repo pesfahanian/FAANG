{
  "nbformat": 4,
  "nbformat_minor": 0,
  "metadata": {
    "colab": {
      "name": "balanced_parentheses.ipynb",
      "provenance": [],
      "collapsed_sections": [],
      "authorship_tag": "ABX9TyMdXO1AWRr7SbhP/9TJJA+w",
      "include_colab_link": true
    },
    "kernelspec": {
      "name": "python3",
      "display_name": "Python 3"
    }
  },
  "cells": [
    {
      "cell_type": "markdown",
      "metadata": {
        "id": "view-in-github",
        "colab_type": "text"
      },
      "source": [
        "<a href=\"https://colab.research.google.com/github/pesfahanian/FAANG/blob/master/balanced_parentheses.ipynb\" target=\"_parent\"><img src=\"https://colab.research.google.com/assets/colab-badge.svg\" alt=\"Open In Colab\"/></a>"
      ]
    },
    {
      "cell_type": "code",
      "metadata": {
        "id": "UrNS1CxXLMp6",
        "colab_type": "code",
        "colab": {}
      },
      "source": [
        "# just '(' and ')'.\n",
        "def check_just_parentheses(input):\n",
        "    stack = []\n",
        "    for i in input:\n",
        "        if (i == '('):\n",
        "            stack.append(1)\n",
        "        else:\n",
        "            if (len(stack) == 0):\n",
        "                return 'False'\n",
        "            else:\n",
        "                stack.pop()\n",
        "    if (len(stack) == 0):\n",
        "        return 'True'\n",
        "    else:\n",
        "        return 'False'     "
      ],
      "execution_count": 1,
      "outputs": []
    },
    {
      "cell_type": "code",
      "metadata": {
        "id": "n6ZHnhTRMuiM",
        "colab_type": "code",
        "colab": {
          "base_uri": "https://localhost:8080/",
          "height": 35
        },
        "outputId": "ae65c102-3615-42e3-ad43-0361a802ee0e"
      },
      "source": [
        "check_just_parentheses('((()))')"
      ],
      "execution_count": 2,
      "outputs": [
        {
          "output_type": "execute_result",
          "data": {
            "application/vnd.google.colaboratory.intrinsic+json": {
              "type": "string"
            },
            "text/plain": [
              "'True'"
            ]
          },
          "metadata": {
            "tags": []
          },
          "execution_count": 2
        }
      ]
    },
    {
      "cell_type": "code",
      "metadata": {
        "id": "Xc2_MkztRDtH",
        "colab_type": "code",
        "colab": {
          "base_uri": "https://localhost:8080/",
          "height": 35
        },
        "outputId": "cde7534c-a099-4570-91c4-c5eb9c382949"
      },
      "source": [
        "check_just_parentheses(')')"
      ],
      "execution_count": 3,
      "outputs": [
        {
          "output_type": "execute_result",
          "data": {
            "application/vnd.google.colaboratory.intrinsic+json": {
              "type": "string"
            },
            "text/plain": [
              "'False'"
            ]
          },
          "metadata": {
            "tags": []
          },
          "execution_count": 3
        }
      ]
    },
    {
      "cell_type": "code",
      "metadata": {
        "id": "KlOqS-aPMwyw",
        "colab_type": "code",
        "colab": {}
      },
      "source": [
        "def check_all(input):\n",
        "    stack = []\n",
        "    for i in input:\n",
        "        if (i == '(') or (i == '[') or (i == '{'):\n",
        "            if (i == '('):\n",
        "                stack.append(1)\n",
        "            if (i == '['):\n",
        "                stack.append(2)\n",
        "            if (i == '{'):\n",
        "                stack.append(3)\n",
        "        else:\n",
        "            if (len(stack) == 0):\n",
        "                return 'False'\n",
        "            else:\n",
        "                if (i == ')') and (stack[-1] == 1):\n",
        "                    stack.pop()\n",
        "                if (i == ']') and (stack[-1] == 2):\n",
        "                    stack.pop()\n",
        "                if (i == '}') and (stack[-1] == 3):\n",
        "                    stack.pop()\n",
        "    if (len(stack) == 0):\n",
        "        return 'True'\n",
        "    else:\n",
        "        return 'False'"
      ],
      "execution_count": 4,
      "outputs": []
    },
    {
      "cell_type": "code",
      "metadata": {
        "id": "pm_WEFC4RMD3",
        "colab_type": "code",
        "colab": {
          "base_uri": "https://localhost:8080/",
          "height": 35
        },
        "outputId": "159ff071-2324-43fe-af83-cfd77c9e8ca5"
      },
      "source": [
        "check_all('((()))')"
      ],
      "execution_count": 5,
      "outputs": [
        {
          "output_type": "execute_result",
          "data": {
            "application/vnd.google.colaboratory.intrinsic+json": {
              "type": "string"
            },
            "text/plain": [
              "'True'"
            ]
          },
          "metadata": {
            "tags": []
          },
          "execution_count": 5
        }
      ]
    },
    {
      "cell_type": "code",
      "metadata": {
        "id": "courtRCJRL7V",
        "colab_type": "code",
        "colab": {
          "base_uri": "https://localhost:8080/",
          "height": 35
        },
        "outputId": "7f51f553-69c2-4260-9629-447b93b64e29"
      },
      "source": [
        "check_all('[()]{}')"
      ],
      "execution_count": 6,
      "outputs": [
        {
          "output_type": "execute_result",
          "data": {
            "application/vnd.google.colaboratory.intrinsic+json": {
              "type": "string"
            },
            "text/plain": [
              "'True'"
            ]
          },
          "metadata": {
            "tags": []
          },
          "execution_count": 6
        }
      ]
    },
    {
      "cell_type": "code",
      "metadata": {
        "id": "3iRHFFWXQX_t",
        "colab_type": "code",
        "colab": {
          "base_uri": "https://localhost:8080/",
          "height": 35
        },
        "outputId": "6b24c62a-a4b3-4038-9ff8-b245d78406c9"
      },
      "source": [
        "check_all('({[)]')"
      ],
      "execution_count": 7,
      "outputs": [
        {
          "output_type": "execute_result",
          "data": {
            "application/vnd.google.colaboratory.intrinsic+json": {
              "type": "string"
            },
            "text/plain": [
              "'False'"
            ]
          },
          "metadata": {
            "tags": []
          },
          "execution_count": 7
        }
      ]
    },
    {
      "cell_type": "code",
      "metadata": {
        "id": "eb1QKiLEQu9U",
        "colab_type": "code",
        "colab": {
          "base_uri": "https://localhost:8080/",
          "height": 35
        },
        "outputId": "407eda35-2366-4fa9-9dad-5269d1271d4a"
      },
      "source": [
        "check_all('([(]))')"
      ],
      "execution_count": 8,
      "outputs": [
        {
          "output_type": "execute_result",
          "data": {
            "application/vnd.google.colaboratory.intrinsic+json": {
              "type": "string"
            },
            "text/plain": [
              "'False'"
            ]
          },
          "metadata": {
            "tags": []
          },
          "execution_count": 8
        }
      ]
    }
  ]
}