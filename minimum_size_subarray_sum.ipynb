{
  "nbformat": 4,
  "nbformat_minor": 0,
  "metadata": {
    "colab": {
      "name": "minimum_size_subarray_sum.ipynb",
      "provenance": [],
      "collapsed_sections": [],
      "authorship_tag": "ABX9TyPAU7ooLS4Xc6gDnrVrkMlC",
      "include_colab_link": true
    },
    "kernelspec": {
      "name": "python3",
      "display_name": "Python 3"
    }
  },
  "cells": [
    {
      "cell_type": "markdown",
      "metadata": {
        "id": "view-in-github",
        "colab_type": "text"
      },
      "source": [
        "<a href=\"https://colab.research.google.com/github/pesfahanian/FAANG/blob/master/minimum_size_subarray_sum.ipynb\" target=\"_parent\"><img src=\"https://colab.research.google.com/assets/colab-badge.svg\" alt=\"Open In Colab\"/></a>"
      ]
    },
    {
      "cell_type": "code",
      "metadata": {
        "id": "2W5lM4z85-i-",
        "colab_type": "code",
        "colab": {}
      },
      "source": [
        "def find(input, target):\n",
        "    window_lenght = 1\n",
        "    while (window_lenght <= len(input)):\n",
        "        for i in range(0, len(input)-window_lenght+1):\n",
        "            if (sum(input[i:i+window_lenght]) == target):\n",
        "                return len(input[i:i+window_lenght])\n",
        "        window_lenght += 1\n",
        "    return 0"
      ],
      "execution_count": 1,
      "outputs": []
    },
    {
      "cell_type": "code",
      "metadata": {
        "id": "diX5X-6M4FZg",
        "colab_type": "code",
        "colab": {
          "base_uri": "https://localhost:8080/",
          "height": 34
        },
        "outputId": "945472d2-4ed7-430e-ef28-08a34e6a6d75"
      },
      "source": [
        "find([2, 3, 1, 2, 4, 3], 7)"
      ],
      "execution_count": 2,
      "outputs": [
        {
          "output_type": "execute_result",
          "data": {
            "text/plain": [
              "2"
            ]
          },
          "metadata": {
            "tags": []
          },
          "execution_count": 2
        }
      ]
    }
  ]
}