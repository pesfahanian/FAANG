{
  "nbformat": 4,
  "nbformat_minor": 0,
  "metadata": {
    "colab": {
      "name": "two_sums.ipynb",
      "provenance": [],
      "authorship_tag": "ABX9TyM61tD2I8A1Klf/Nr7Jd3d0",
      "include_colab_link": true
    },
    "kernelspec": {
      "name": "python3",
      "display_name": "Python 3"
    }
  },
  "cells": [
    {
      "cell_type": "markdown",
      "metadata": {
        "id": "view-in-github",
        "colab_type": "text"
      },
      "source": [
        "<a href=\"https://colab.research.google.com/github/pesfahanian/FAANG/blob/master/two_sums.ipynb\" target=\"_parent\"><img src=\"https://colab.research.google.com/assets/colab-badge.svg\" alt=\"Open In Colab\"/></a>"
      ]
    },
    {
      "cell_type": "code",
      "metadata": {
        "id": "xWwCumdBKXgv",
        "colab_type": "code",
        "colab": {}
      },
      "source": [
        "import time"
      ],
      "execution_count": 1,
      "outputs": []
    },
    {
      "cell_type": "code",
      "metadata": {
        "id": "lQ-47uFfIu4f",
        "colab_type": "code",
        "colab": {}
      },
      "source": [
        "def find1(input, target):\n",
        "    for i in range(len(input)):\n",
        "        for j in range(i+1, len(input)):\n",
        "            if (input[i]+input[j] == target):\n",
        "                return True\n",
        "    return False"
      ],
      "execution_count": 2,
      "outputs": []
    },
    {
      "cell_type": "code",
      "metadata": {
        "id": "hozr2piLJHKb",
        "colab_type": "code",
        "colab": {
          "base_uri": "https://localhost:8080/",
          "height": 34
        },
        "outputId": "099706bf-9263-4a91-d533-a6b4c9b549de"
      },
      "source": [
        "find1([4, 7, 1, -3, 2], 100)"
      ],
      "execution_count": 3,
      "outputs": [
        {
          "output_type": "execute_result",
          "data": {
            "text/plain": [
              "False"
            ]
          },
          "metadata": {
            "tags": []
          },
          "execution_count": 3
        }
      ]
    },
    {
      "cell_type": "code",
      "metadata": {
        "id": "EEN2iuOyJO3J",
        "colab_type": "code",
        "colab": {}
      },
      "source": [
        "def find2(input, target):\n",
        "    for i in input:\n",
        "        if ((target-i) in input):\n",
        "            return True\n",
        "    return False"
      ],
      "execution_count": 4,
      "outputs": []
    },
    {
      "cell_type": "code",
      "metadata": {
        "id": "XVhgQuZZKFSa",
        "colab_type": "code",
        "colab": {
          "base_uri": "https://localhost:8080/",
          "height": 34
        },
        "outputId": "8679eb23-157c-479f-acf4-6b23d2a93515"
      },
      "source": [
        "find2([4, 7, 1, -3, 2], 5)"
      ],
      "execution_count": 5,
      "outputs": [
        {
          "output_type": "execute_result",
          "data": {
            "text/plain": [
              "True"
            ]
          },
          "metadata": {
            "tags": []
          },
          "execution_count": 5
        }
      ]
    },
    {
      "cell_type": "code",
      "metadata": {
        "id": "Pjs-B3rMKP96",
        "colab_type": "code",
        "colab": {
          "base_uri": "https://localhost:8080/",
          "height": 84
        },
        "outputId": "1c50f949-e381-43df-b183-41feb25be2d1"
      },
      "source": [
        "iterations = 10000\n",
        "avg1_finds = 0\n",
        "avg1_fails = 0\n",
        "avg2_finds = 0\n",
        "avg2_fails = 0\n",
        "\n",
        "for t in range(iterations):\n",
        "\n",
        "    start1_finds = time.time()\n",
        "    find1([4, 7, 1, -3, 2], 5)\n",
        "    end1_finds = time.time()\n",
        "    avg1_finds += (end1_finds - start1_finds)\n",
        "\n",
        "    start1_fails = time.time()\n",
        "    find1([4, 7, 1, -3, 2], 100)\n",
        "    end1_fails = time.time()\n",
        "    avg1_fails += (end1_fails - start1_fails)\n",
        "\n",
        "    start2_finds = time.time()\n",
        "    find2([4, 7, 1, -3, 2], 5)\n",
        "    end2_finds = time.time()\n",
        "    avg2_finds += (end2_finds - start2_finds)\n",
        "\n",
        "    start2_fails = time.time()\n",
        "    find2([4, 7, 1, -3, 2], 100)\n",
        "    end2_fails = time.time()\n",
        "    avg2_fails += (end2_fails - start2_fails)\n",
        "\n",
        "print('avg1_finds:', avg1_finds/iterations)\n",
        "print('avg1_fails:', avg1_fails/iterations)\n",
        "print('avg2_finds:', avg2_finds/iterations)\n",
        "print('avg2_fails:', avg2_fails/iterations)"
      ],
      "execution_count": 6,
      "outputs": [
        {
          "output_type": "stream",
          "text": [
            "avg1_finds: 1.0651826858520507e-06\n",
            "avg1_fails: 2.9868602752685545e-06\n",
            "avg2_finds: 4.287242889404297e-07\n",
            "avg2_fails: 7.916927337646485e-07\n"
          ],
          "name": "stdout"
        }
      ]
    }
  ]
}