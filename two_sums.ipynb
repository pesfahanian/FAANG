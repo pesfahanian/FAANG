{
  "nbformat": 4,
  "nbformat_minor": 0,
  "metadata": {
    "colab": {
      "name": "two_sums.ipynb",
      "provenance": [],
      "authorship_tag": "ABX9TyNsHj+cr2Uyny++oa68KSC3",
      "include_colab_link": true
    },
    "kernelspec": {
      "name": "python3",
      "display_name": "Python 3"
    }
  },
  "cells": [
    {
      "cell_type": "markdown",
      "metadata": {
        "id": "view-in-github",
        "colab_type": "text"
      },
      "source": [
        "<a href=\"https://colab.research.google.com/github/pesfahanian/FAANG/blob/master/two_sums.ipynb\" target=\"_parent\"><img src=\"https://colab.research.google.com/assets/colab-badge.svg\" alt=\"Open In Colab\"/></a>"
      ]
    },
    {
      "cell_type": "code",
      "metadata": {
        "id": "lQ-47uFfIu4f",
        "colab_type": "code",
        "colab": {}
      },
      "source": [
        "def find1(input, target):\n",
        "    for i in range(len(input)):\n",
        "        for j in range(i+1, len(input)):\n",
        "            if (input[i]+input[j] == target):\n",
        "                return True\n",
        "    return False"
      ],
      "execution_count": 1,
      "outputs": []
    },
    {
      "cell_type": "code",
      "metadata": {
        "id": "hozr2piLJHKb",
        "colab_type": "code",
        "colab": {
          "base_uri": "https://localhost:8080/",
          "height": 34
        },
        "outputId": "79e63dfb-aa23-4467-d856-4da579db60bb"
      },
      "source": [
        "find1([4, 7, 1, -3, 2], 100)"
      ],
      "execution_count": 2,
      "outputs": [
        {
          "output_type": "execute_result",
          "data": {
            "text/plain": [
              "False"
            ]
          },
          "metadata": {
            "tags": []
          },
          "execution_count": 2
        }
      ]
    },
    {
      "cell_type": "code",
      "metadata": {
        "id": "EEN2iuOyJO3J",
        "colab_type": "code",
        "colab": {}
      },
      "source": [
        "def find2(input, target):\n",
        "    for i in input:\n",
        "        if ((target-i) in input):\n",
        "            return True\n",
        "    return False"
      ],
      "execution_count": 3,
      "outputs": []
    },
    {
      "cell_type": "code",
      "metadata": {
        "id": "XVhgQuZZKFSa",
        "colab_type": "code",
        "colab": {
          "base_uri": "https://localhost:8080/",
          "height": 34
        },
        "outputId": "126aef20-a2df-4805-aae8-8ae9c0361b84"
      },
      "source": [
        "find2([4, 7, 1, -3, 2], 5)"
      ],
      "execution_count": 4,
      "outputs": [
        {
          "output_type": "execute_result",
          "data": {
            "text/plain": [
              "True"
            ]
          },
          "metadata": {
            "tags": []
          },
          "execution_count": 4
        }
      ]
    },
    {
      "cell_type": "code",
      "metadata": {
        "id": "Pjs-B3rMKP96",
        "colab_type": "code",
        "colab": {}
      },
      "source": [
        "def find3(input, target):\n",
        "    input.sort()\n",
        "    start = 0\n",
        "    end = len(input)-1\n",
        "    while(True):\n",
        "        if (start == end):\n",
        "            return False\n",
        "        else:\n",
        "            if (input[start] + input[end] == target):\n",
        "                return True\n",
        "            if (input[start] + input[end] < target):\n",
        "                start += 1\n",
        "            if (input[start] + input[end] > target):\n",
        "                end -= 1 "
      ],
      "execution_count": 5,
      "outputs": []
    },
    {
      "cell_type": "code",
      "metadata": {
        "id": "Xfq27eGgNIAW",
        "colab_type": "code",
        "colab": {
          "base_uri": "https://localhost:8080/",
          "height": 34
        },
        "outputId": "4e0a8ff7-adb0-4d8a-efde-f74fa64a94c5"
      },
      "source": [
        "find3([4, 7, 1, -3, 2], 5)"
      ],
      "execution_count": 6,
      "outputs": [
        {
          "output_type": "execute_result",
          "data": {
            "text/plain": [
              "True"
            ]
          },
          "metadata": {
            "tags": []
          },
          "execution_count": 6
        }
      ]
    }
  ]
}