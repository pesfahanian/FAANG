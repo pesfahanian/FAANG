{
  "nbformat": 4,
  "nbformat_minor": 0,
  "metadata": {
    "colab": {
      "name": "longest_non_repeating_substring_lenght.ipynb",
      "provenance": [],
      "authorship_tag": "ABX9TyMe6ZomIYD4r2U5CqNz189k",
      "include_colab_link": true
    },
    "kernelspec": {
      "name": "python3",
      "display_name": "Python 3"
    }
  },
  "cells": [
    {
      "cell_type": "markdown",
      "metadata": {
        "id": "view-in-github",
        "colab_type": "text"
      },
      "source": [
        "<a href=\"https://colab.research.google.com/github/pesfahanian/FAANG/blob/master/longest_non_repeating_substring_lenght.ipynb\" target=\"_parent\"><img src=\"https://colab.research.google.com/assets/colab-badge.svg\" alt=\"Open In Colab\"/></a>"
      ]
    },
    {
      "cell_type": "code",
      "metadata": {
        "id": "7sg2OizJ2cET",
        "colab_type": "code",
        "colab": {}
      },
      "source": [
        "def length_slow(s):\n",
        "        max_length = 0\n",
        "        start = 0\n",
        "        counter = 0\n",
        "        while(True):\n",
        "            if (start == len(s)-1):\n",
        "                break\n",
        "            sub = []\n",
        "            sub.append(s[start])\n",
        "            for i in range(start+1, len(s)):\n",
        "                if (s[i] not in sub):\n",
        "                    sub.append(s[i])\n",
        "                else:\n",
        "                    break\n",
        "            if (len(sub) > max_length):\n",
        "                max_length = len(sub)\n",
        "            start = i\n",
        "        return max_length"
      ],
      "execution_count": 1,
      "outputs": []
    },
    {
      "cell_type": "code",
      "metadata": {
        "id": "70YaM9mE_mzX",
        "colab_type": "code",
        "colab": {}
      },
      "source": [
        "def lengh_fast(s): \n",
        "    seen = {}\n",
        "    max_length = 0\n",
        "    start = 0 \n",
        "    for end in range(len(s)): \n",
        "        if s[end] in seen: \n",
        "            start = max(start, seen[s[end]]+1) \n",
        "        seen[s[end]] = end \n",
        "        max_length = max(max_length, end-start+1) \n",
        "    return max_length"
      ],
      "execution_count": 2,
      "outputs": []
    },
    {
      "cell_type": "code",
      "metadata": {
        "id": "_XAeDnr626pH",
        "colab_type": "code",
        "colab": {
          "base_uri": "https://localhost:8080/",
          "height": 34
        },
        "outputId": "93a79cc5-5382-4bfd-e934-780c8515de98"
      },
      "source": [
        "length_slow('abrkaabcdefghijjxxx')"
      ],
      "execution_count": 3,
      "outputs": [
        {
          "output_type": "execute_result",
          "data": {
            "text/plain": [
              "10"
            ]
          },
          "metadata": {
            "tags": []
          },
          "execution_count": 3
        }
      ]
    },
    {
      "cell_type": "code",
      "metadata": {
        "id": "gxSViwbX_edm",
        "colab_type": "code",
        "colab": {
          "base_uri": "https://localhost:8080/",
          "height": 34
        },
        "outputId": "c336e1a3-fbf2-4a04-8c2c-f25388f35f7b"
      },
      "source": [
        "lengh_fast('abrkaabcdefghijjxxx')"
      ],
      "execution_count": 4,
      "outputs": [
        {
          "output_type": "execute_result",
          "data": {
            "text/plain": [
              "10"
            ]
          },
          "metadata": {
            "tags": []
          },
          "execution_count": 4
        }
      ]
    }
  ]
}