{
  "nbformat": 4,
  "nbformat_minor": 0,
  "metadata": {
    "colab": {
      "name": "num_ways_to_decode_message.ipynb",
      "provenance": [],
      "authorship_tag": "ABX9TyPdl/japJ97dncsLaSB442z",
      "include_colab_link": true
    },
    "kernelspec": {
      "name": "python3",
      "display_name": "Python 3"
    }
  },
  "cells": [
    {
      "cell_type": "markdown",
      "metadata": {
        "id": "view-in-github",
        "colab_type": "text"
      },
      "source": [
        "<a href=\"https://colab.research.google.com/github/pesfahanian/FAANG/blob/master/num_ways_to_decode_message.ipynb\" target=\"_parent\"><img src=\"https://colab.research.google.com/assets/colab-badge.svg\" alt=\"Open In Colab\"/></a>"
      ]
    },
    {
      "cell_type": "code",
      "metadata": {
        "id": "9GvkdBtaGn4p",
        "colab_type": "code",
        "colab": {}
      },
      "source": [
        "def num_ways(m):\n",
        "    if (len(m) == 1):\n",
        "        return 1\n",
        "    else:\n",
        "        ways = 0\n",
        "        if (int(m[0:2])>26):\n",
        "            ways += num_ways(m[1:])\n",
        "            return ways\n",
        "        else:\n",
        "            if (len(m) > 2):\n",
        "                ways += num_ways(m[1:]) + num_ways(m[2:])\n",
        "                return ways\n",
        "            else:\n",
        "                return 2"
      ],
      "execution_count": 84,
      "outputs": []
    },
    {
      "cell_type": "code",
      "metadata": {
        "id": "z-m8aeVI3HO-",
        "colab_type": "code",
        "colab": {
          "base_uri": "https://localhost:8080/",
          "height": 34
        },
        "outputId": "7ffe0d8c-3973-42eb-db96-6ffb042cdc7e"
      },
      "source": [
        "num_ways('12345')"
      ],
      "execution_count": 86,
      "outputs": [
        {
          "output_type": "execute_result",
          "data": {
            "text/plain": [
              "3"
            ]
          },
          "metadata": {
            "tags": []
          },
          "execution_count": 86
        }
      ]
    },
    {
      "cell_type": "code",
      "metadata": {
        "id": "GV7OoMh93K0B",
        "colab_type": "code",
        "colab": {}
      },
      "source": [
        ""
      ],
      "execution_count": null,
      "outputs": []
    }
  ]
}