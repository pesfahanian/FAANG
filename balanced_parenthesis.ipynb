{
  "nbformat": 4,
  "nbformat_minor": 0,
  "metadata": {
    "colab": {
      "name": "balanced_parenthesis.ipynb",
      "provenance": [],
      "collapsed_sections": [],
      "authorship_tag": "ABX9TyMMLHqy+gq7Us40hHfZuwhG",
      "include_colab_link": true
    },
    "kernelspec": {
      "name": "python3",
      "display_name": "Python 3"
    }
  },
  "cells": [
    {
      "cell_type": "markdown",
      "metadata": {
        "id": "view-in-github",
        "colab_type": "text"
      },
      "source": [
        "<a href=\"https://colab.research.google.com/github/pesfahanian/FAANG/blob/master/balanced_parenthesis.ipynb\" target=\"_parent\"><img src=\"https://colab.research.google.com/assets/colab-badge.svg\" alt=\"Open In Colab\"/></a>"
      ]
    },
    {
      "cell_type": "code",
      "metadata": {
        "id": "UrNS1CxXLMp6",
        "colab_type": "code",
        "colab": {}
      },
      "source": [
        "# just '(' and ')'.\n",
        "def check_just_parenthesis(input):\n",
        "    stack = []\n",
        "    for i in input:\n",
        "        if (i == '('):\n",
        "            stack.append(1)\n",
        "        else:\n",
        "            if (len(stack) == 0):\n",
        "                return 'False'\n",
        "            else:\n",
        "                stack.pop()\n",
        "    if (len(stack) == 0):\n",
        "        return 'True'\n",
        "    else:\n",
        "        return 'False'     "
      ],
      "execution_count": 1,
      "outputs": []
    },
    {
      "cell_type": "code",
      "metadata": {
        "id": "n6ZHnhTRMuiM",
        "colab_type": "code",
        "colab": {
          "base_uri": "https://localhost:8080/",
          "height": 35
        },
        "outputId": "0e1b513b-388c-4050-d471-ada7550b69a5"
      },
      "source": [
        "check_just_parenthesis('((()))')"
      ],
      "execution_count": 2,
      "outputs": [
        {
          "output_type": "execute_result",
          "data": {
            "application/vnd.google.colaboratory.intrinsic+json": {
              "type": "string"
            },
            "text/plain": [
              "'True'"
            ]
          },
          "metadata": {
            "tags": []
          },
          "execution_count": 2
        }
      ]
    },
    {
      "cell_type": "code",
      "metadata": {
        "id": "Xc2_MkztRDtH",
        "colab_type": "code",
        "colab": {
          "base_uri": "https://localhost:8080/",
          "height": 35
        },
        "outputId": "6f05a3ea-17b6-480e-c8df-fb772f60aef8"
      },
      "source": [
        "check_just_parenthesis(')')"
      ],
      "execution_count": 3,
      "outputs": [
        {
          "output_type": "execute_result",
          "data": {
            "application/vnd.google.colaboratory.intrinsic+json": {
              "type": "string"
            },
            "text/plain": [
              "'False'"
            ]
          },
          "metadata": {
            "tags": []
          },
          "execution_count": 3
        }
      ]
    },
    {
      "cell_type": "code",
      "metadata": {
        "id": "KlOqS-aPMwyw",
        "colab_type": "code",
        "colab": {}
      },
      "source": [
        "def check_all(input):\n",
        "    stack = []\n",
        "    for i in input:\n",
        "        if (i == '(') or (i == '[') or (i == '{'):\n",
        "            if (i == '('):\n",
        "                stack.append(1)\n",
        "            if (i == '['):\n",
        "                stack.append(2)\n",
        "            if (i == '{'):\n",
        "                stack.append(3)\n",
        "        else:\n",
        "            if (len(stack) == 0):\n",
        "                return 'False'\n",
        "            else:\n",
        "                if (i == ')') and (stack[-1] == 1):\n",
        "                    stack.pop()\n",
        "                if (i == ']') and (stack[-1] == 2):\n",
        "                    stack.pop()\n",
        "                if (i == '}') and (stack[-1] == 3):\n",
        "                    stack.pop()\n",
        "    if (len(stack) == 0):\n",
        "        return 'True'\n",
        "    else:\n",
        "        return 'False'"
      ],
      "execution_count": 4,
      "outputs": []
    },
    {
      "cell_type": "code",
      "metadata": {
        "id": "pm_WEFC4RMD3",
        "colab_type": "code",
        "colab": {
          "base_uri": "https://localhost:8080/",
          "height": 35
        },
        "outputId": "0b265a34-fc0b-45db-f993-da241534bb2b"
      },
      "source": [
        "check_all('((()))')"
      ],
      "execution_count": 5,
      "outputs": [
        {
          "output_type": "execute_result",
          "data": {
            "application/vnd.google.colaboratory.intrinsic+json": {
              "type": "string"
            },
            "text/plain": [
              "'True'"
            ]
          },
          "metadata": {
            "tags": []
          },
          "execution_count": 5
        }
      ]
    },
    {
      "cell_type": "code",
      "metadata": {
        "id": "courtRCJRL7V",
        "colab_type": "code",
        "colab": {
          "base_uri": "https://localhost:8080/",
          "height": 35
        },
        "outputId": "168bc65c-fc51-4ca4-c0a3-b5dd88d00b52"
      },
      "source": [
        "check_all('[()]{}')"
      ],
      "execution_count": 6,
      "outputs": [
        {
          "output_type": "execute_result",
          "data": {
            "application/vnd.google.colaboratory.intrinsic+json": {
              "type": "string"
            },
            "text/plain": [
              "'True'"
            ]
          },
          "metadata": {
            "tags": []
          },
          "execution_count": 6
        }
      ]
    },
    {
      "cell_type": "code",
      "metadata": {
        "id": "3iRHFFWXQX_t",
        "colab_type": "code",
        "colab": {
          "base_uri": "https://localhost:8080/",
          "height": 35
        },
        "outputId": "24305d0b-244b-4a29-b95c-ae86e3dbc9dd"
      },
      "source": [
        "check_all('({[)]')"
      ],
      "execution_count": 7,
      "outputs": [
        {
          "output_type": "execute_result",
          "data": {
            "application/vnd.google.colaboratory.intrinsic+json": {
              "type": "string"
            },
            "text/plain": [
              "'False'"
            ]
          },
          "metadata": {
            "tags": []
          },
          "execution_count": 7
        }
      ]
    },
    {
      "cell_type": "code",
      "metadata": {
        "id": "eb1QKiLEQu9U",
        "colab_type": "code",
        "colab": {
          "base_uri": "https://localhost:8080/",
          "height": 35
        },
        "outputId": "817c873b-f8d9-4674-87be-92b6aca86c0f"
      },
      "source": [
        "check_all('([(]))')"
      ],
      "execution_count": 8,
      "outputs": [
        {
          "output_type": "execute_result",
          "data": {
            "application/vnd.google.colaboratory.intrinsic+json": {
              "type": "string"
            },
            "text/plain": [
              "'False'"
            ]
          },
          "metadata": {
            "tags": []
          },
          "execution_count": 8
        }
      ]
    }
  ]
}