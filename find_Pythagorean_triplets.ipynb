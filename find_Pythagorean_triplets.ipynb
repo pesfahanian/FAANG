{
  "nbformat": 4,
  "nbformat_minor": 0,
  "metadata": {
    "colab": {
      "name": "find_Pythagorean_triplets.ipynb",
      "provenance": [],
      "collapsed_sections": [],
      "authorship_tag": "ABX9TyNLRqY/whQTvg5RWCCsk9cB",
      "include_colab_link": true
    },
    "kernelspec": {
      "name": "python3",
      "display_name": "Python 3"
    }
  },
  "cells": [
    {
      "cell_type": "markdown",
      "metadata": {
        "id": "view-in-github",
        "colab_type": "text"
      },
      "source": [
        "<a href=\"https://colab.research.google.com/github/pesfahanian/FAANG/blob/master/find_Pythagorean_triplets.ipynb\" target=\"_parent\"><img src=\"https://colab.research.google.com/assets/colab-badge.svg\" alt=\"Open In Colab\"/></a>"
      ]
    },
    {
      "cell_type": "code",
      "metadata": {
        "id": "Liiv_1YjJBAS",
        "colab_type": "code",
        "colab": {}
      },
      "source": [
        "def check(input):\n",
        "    input.sort()\n",
        "    print(input)\n",
        "    for i in range(len(input)):\n",
        "        input[i] = input[i]*input[i]\n",
        "    print(input)\n",
        "    for i in range(len(input)-1, 1, -1): \n",
        "        j = 0\n",
        "        k = i - 1\n",
        "        while (j < k): \n",
        "            if (input[j] + input[k] == input[i]): \n",
        "                return True\n",
        "            else: \n",
        "                if (input[j] + input[k] < input[i]): \n",
        "                    j += 1\n",
        "                else: \n",
        "                    k -= 1\n",
        "    return False"
      ],
      "execution_count": 1,
      "outputs": []
    },
    {
      "cell_type": "code",
      "metadata": {
        "id": "BvuWqLBtJPoU",
        "colab_type": "code",
        "colab": {
          "base_uri": "https://localhost:8080/",
          "height": 68
        },
        "outputId": "a8e87bee-f9ec-4890-b535-c5e3fbca9636"
      },
      "source": [
        "check([3, 12, 5, 13])"
      ],
      "execution_count": 2,
      "outputs": [
        {
          "output_type": "stream",
          "text": [
            "[3, 5, 12, 13]\n",
            "[9, 25, 144, 169]\n"
          ],
          "name": "stdout"
        },
        {
          "output_type": "execute_result",
          "data": {
            "text/plain": [
              "True"
            ]
          },
          "metadata": {
            "tags": []
          },
          "execution_count": 2
        }
      ]
    }
  ]
}