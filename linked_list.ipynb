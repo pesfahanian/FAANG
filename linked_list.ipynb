{
  "nbformat": 4,
  "nbformat_minor": 0,
  "metadata": {
    "colab": {
      "name": "linked_list.ipynb",
      "provenance": [],
      "collapsed_sections": [],
      "authorship_tag": "ABX9TyN6Y+uNWW83RgXueTREuupA",
      "include_colab_link": true
    },
    "kernelspec": {
      "name": "python3",
      "display_name": "Python 3"
    }
  },
  "cells": [
    {
      "cell_type": "markdown",
      "metadata": {
        "id": "view-in-github",
        "colab_type": "text"
      },
      "source": [
        "<a href=\"https://colab.research.google.com/github/pesfahanian/FAANG/blob/master/linked_list.ipynb\" target=\"_parent\"><img src=\"https://colab.research.google.com/assets/colab-badge.svg\" alt=\"Open In Colab\"/></a>"
      ]
    },
    {
      "cell_type": "code",
      "metadata": {
        "id": "BJSYNzOkieVh",
        "colab_type": "code",
        "colab": {}
      },
      "source": [
        "class list_node(): \n",
        "    def __init__(self, value): \n",
        "        self.value = value \n",
        "        self.next = None"
      ],
      "execution_count": 1,
      "outputs": []
    },
    {
      "cell_type": "code",
      "metadata": {
        "id": "GwU_jXNFi6Jt",
        "colab_type": "code",
        "colab": {}
      },
      "source": [
        "class linked_list(): \n",
        "    def __init__(self):  \n",
        "        self.head = None\n",
        "\n",
        "    def append(self, value):\n",
        "        new_node = list_node(value)\n",
        "        if (self.head is None):\n",
        "            self.head = new_node\n",
        "            return\n",
        "        last_node = self.head\n",
        "        while (last_node.next is not None):\n",
        "            last_node = last_node.next\n",
        "        last_node.next = new_node\n",
        "\n",
        "    def reverse_iterative(self):\n",
        "        previous = None\n",
        "        current = self.head\n",
        "        while (current is not None):\n",
        "            next_tmp = current.next\n",
        "            current.next = previous\n",
        "            previous = current\n",
        "            current = next_tmp\n",
        "        self.head = previous\n",
        "\n",
        "    def reverse_recursive(self):\n",
        "        def helper(current, previous):\n",
        "            if (current is None):\n",
        "                return previous\n",
        "            next_tmp = current.next\n",
        "            current.next = previous\n",
        "            previous = current\n",
        "            current = next_tmp\n",
        "            return helper(current, previous)\n",
        "        self.head = helper(current=self.head, previous=None)\n",
        "    \n",
        "    def print_linked_list(self): \n",
        "        current_node = self.head \n",
        "        while (current_node is not None): \n",
        "            print(current_node.value) \n",
        "            current_node = current_node.next"
      ],
      "execution_count": 6,
      "outputs": []
    },
    {
      "cell_type": "code",
      "metadata": {
        "id": "7MkR3_R0mWcn",
        "colab_type": "code",
        "colab": {
          "base_uri": "https://localhost:8080/",
          "height": 101
        },
        "outputId": "99564a93-1db3-4900-9b3d-9a0c9c00415f"
      },
      "source": [
        "linked_list = linked_list()\n",
        "\n",
        "input = [1, 2, 3, 11, 5]\n",
        "for i in input:\n",
        "    linked_list.append(i)\n",
        "    \n",
        "linked_list.print_linked_list()"
      ],
      "execution_count": 7,
      "outputs": [
        {
          "output_type": "stream",
          "text": [
            "1\n",
            "2\n",
            "3\n",
            "11\n",
            "5\n"
          ],
          "name": "stdout"
        }
      ]
    },
    {
      "cell_type": "code",
      "metadata": {
        "id": "Lg8Fm_wXyFoK",
        "colab_type": "code",
        "colab": {
          "base_uri": "https://localhost:8080/",
          "height": 101
        },
        "outputId": "17dd6c9e-97c0-4834-ea68-4232f756f249"
      },
      "source": [
        "linked_list.reverse_iterative()\n",
        "linked_list.print_linked_list()"
      ],
      "execution_count": 4,
      "outputs": [
        {
          "output_type": "stream",
          "text": [
            "5\n",
            "11\n",
            "3\n",
            "2\n",
            "1\n"
          ],
          "name": "stdout"
        }
      ]
    },
    {
      "cell_type": "code",
      "metadata": {
        "id": "reWx8cddzhne",
        "colab_type": "code",
        "colab": {
          "base_uri": "https://localhost:8080/",
          "height": 101
        },
        "outputId": "82553b15-54fe-43ac-cbbe-f26a1ed982d3"
      },
      "source": [
        "linked_list.reverse_recursive()\n",
        "linked_list.print_linked_list()"
      ],
      "execution_count": 8,
      "outputs": [
        {
          "output_type": "stream",
          "text": [
            "5\n",
            "11\n",
            "3\n",
            "2\n",
            "1\n"
          ],
          "name": "stdout"
        }
      ]
    }
  ]
}